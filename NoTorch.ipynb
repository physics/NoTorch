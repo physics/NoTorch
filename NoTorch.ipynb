{
 "cells": [
  {
   "cell_type": "code",
   "execution_count": 1,
   "metadata": {
    "collapsed": true,
    "ExecuteTime": {
     "end_time": "2023-07-28T22:33:32.622146Z",
     "start_time": "2023-07-28T22:33:32.554643Z"
    }
   },
   "outputs": [],
   "source": [
    "import numpy as np\n",
    "import random\n",
    "\n",
    "def sigmoid(z):\n",
    "  return 1 / (1 + np.exp(-z))\n",
    "\n",
    "def sigmoid_prime(z):\n",
    "  return sigmoid(z) * (1 - sigmoid(z))\n",
    "\n",
    "class NoTorch:\n",
    "  def __init__(self, layers):\n",
    "    self.layers = layers\n",
    "    self.n_layers = len(layers)\n",
    "    self.biases = [np.random.randn(nodes, 1) for nodes in layers[1:]]\n",
    "    self.weights = [np.random.randn(nodes_cur, nodes_last) / np.sqrt(nodes_last) for nodes_cur, nodes_last in zip(layers[1:], layers[:-1])]\n",
    "  def SGD(self, training_data, epochs, batch_sz, eta, lmbda, test_data):\n",
    "    training_data = list(training_data)\n",
    "    test_data = list(test_data)\n",
    "    n = len(training_data)\n",
    "    for j in range(epochs):\n",
    "      random.shuffle(training_data)\n",
    "      batches = [training_data[k : k + batch_sz] for k in range(0, n, batch_sz)]\n",
    "      for batch in batches:\n",
    "        self.update_parameters(batch, eta, lmbda, n)\n",
    "      print(\"Accuracy after epoch {}: {}%\".format(j + 1, self.accuracy(test_data)))\n",
    "  def update_parameters(self, batch, eta, lmbda, n):\n",
    "    nabla_b = [np.zeros(np.shape(b)) for b in self.biases]\n",
    "    nabla_w = [np.zeros(np.shape(w)) for w in self.weights]\n",
    "    m = len(batch)\n",
    "    for x, y in batch:\n",
    "      delta_nabla_b, delta_nabla_w = self.backprop(x, y)\n",
    "      nabla_b = [nb + dnb for nb, dnb in zip(nabla_b, delta_nabla_b)]\n",
    "      nabla_w = [nw + dnw for nw, dnw in zip(nabla_w, delta_nabla_w)]\n",
    "    self.weights = [(1 - eta * lmbda / n) * w - (eta / m) * nw for w, nw in zip(self.weights, nabla_w)]\n",
    "    self.biases = [b - (eta / m) * nb for b, nb in zip(self.biases, nabla_b)]\n",
    "  def feedforward(self, a):\n",
    "    for b, w in zip(self.biases, self.weights):\n",
    "      a = sigmoid(np.matmul(w, a) + b)\n",
    "    return a\n",
    "  def accuracy(self, data):\n",
    "    n = len(data)\n",
    "    correct = 0\n",
    "    for x, y in data:\n",
    "      prediction = np.argmax(self.feedforward(x))\n",
    "      correct += int(prediction == y)\n",
    "    return correct / n * 100\n",
    "  def backprop(self, x, y):\n",
    "    nabla_b = [None] * len(self.biases)\n",
    "    nabla_w = [None] * len(self.weights)\n",
    "    a, z = [x], [x]\n",
    "    for b, w in zip(self.biases, self.weights):\n",
    "      z.append(np.matmul(w, a[-1]) + b)\n",
    "      a.append(sigmoid(z[-1]))\n",
    "    delta = a[-1] - y\n",
    "    nabla_b[-1] = delta\n",
    "    nabla_w[-1] = np.matmul(delta, a[-2].transpose())\n",
    "    for l in range(2, self.n_layers):\n",
    "      delta = sigmoid_prime(z[-l]) * np.matmul(self.weights[-l+1].transpose(), delta)\n",
    "      nabla_b[-l] = delta\n",
    "      nabla_w[-l] = np.matmul(delta, a[-l-1].transpose())\n",
    "    return nabla_b, nabla_w"
   ]
  },
  {
   "cell_type": "code",
   "execution_count": 2,
   "outputs": [
    {
     "name": "stdout",
     "output_type": "stream",
     "text": [
      "Accuracy after epoch 1: 93.26%\n",
      "Accuracy after epoch 2: 94.98%\n",
      "Accuracy after epoch 3: 95.1%\n",
      "Accuracy after epoch 4: 95.16%\n",
      "Accuracy after epoch 5: 94.85%\n",
      "Accuracy after epoch 6: 95.55%\n"
     ]
    },
    {
     "ename": "KeyboardInterrupt",
     "evalue": "",
     "output_type": "error",
     "traceback": [
      "\u001B[0;31m---------------------------------------------------------------------------\u001B[0m",
      "\u001B[0;31mKeyboardInterrupt\u001B[0m                         Traceback (most recent call last)",
      "Cell \u001B[0;32mIn[2], line 8\u001B[0m\n\u001B[1;32m      6\u001B[0m BATCH_SZ \u001B[38;5;241m=\u001B[39m \u001B[38;5;241m10\u001B[39m\n\u001B[1;32m      7\u001B[0m net \u001B[38;5;241m=\u001B[39m NoTorch([\u001B[38;5;241m784\u001B[39m, \u001B[38;5;241m30\u001B[39m, \u001B[38;5;241m10\u001B[39m])\n\u001B[0;32m----> 8\u001B[0m \u001B[43mnet\u001B[49m\u001B[38;5;241;43m.\u001B[39;49m\u001B[43mSGD\u001B[49m\u001B[43m(\u001B[49m\u001B[43mTRAIN\u001B[49m\u001B[43m,\u001B[49m\u001B[43m \u001B[49m\u001B[43mEPOCHS\u001B[49m\u001B[43m,\u001B[49m\u001B[43m \u001B[49m\u001B[43mBATCH_SZ\u001B[49m\u001B[43m,\u001B[49m\u001B[43m \u001B[49m\u001B[43mETA\u001B[49m\u001B[43m,\u001B[49m\u001B[43m \u001B[49m\u001B[43mLMBDA\u001B[49m\u001B[43m,\u001B[49m\u001B[43m \u001B[49m\u001B[43mTEST\u001B[49m\u001B[43m)\u001B[49m\n",
      "Cell \u001B[0;32mIn[1], line 24\u001B[0m, in \u001B[0;36mNoTorch.SGD\u001B[0;34m(self, training_data, epochs, batch_sz, eta, lmbda, test_data)\u001B[0m\n\u001B[1;32m     22\u001B[0m batches \u001B[38;5;241m=\u001B[39m [training_data[k : k \u001B[38;5;241m+\u001B[39m batch_sz] \u001B[38;5;28;01mfor\u001B[39;00m k \u001B[38;5;129;01min\u001B[39;00m \u001B[38;5;28mrange\u001B[39m(\u001B[38;5;241m0\u001B[39m, n, batch_sz)]\n\u001B[1;32m     23\u001B[0m \u001B[38;5;28;01mfor\u001B[39;00m batch \u001B[38;5;129;01min\u001B[39;00m batches:\n\u001B[0;32m---> 24\u001B[0m   \u001B[38;5;28;43mself\u001B[39;49m\u001B[38;5;241;43m.\u001B[39;49m\u001B[43mupdate_parameters\u001B[49m\u001B[43m(\u001B[49m\u001B[43mbatch\u001B[49m\u001B[43m,\u001B[49m\u001B[43m \u001B[49m\u001B[43meta\u001B[49m\u001B[43m,\u001B[49m\u001B[43m \u001B[49m\u001B[43mlmbda\u001B[49m\u001B[43m,\u001B[49m\u001B[43m \u001B[49m\u001B[43mn\u001B[49m\u001B[43m)\u001B[49m\n\u001B[1;32m     25\u001B[0m \u001B[38;5;28mprint\u001B[39m(\u001B[38;5;124m\"\u001B[39m\u001B[38;5;124mAccuracy after epoch \u001B[39m\u001B[38;5;132;01m{}\u001B[39;00m\u001B[38;5;124m: \u001B[39m\u001B[38;5;132;01m{}\u001B[39;00m\u001B[38;5;124m%\u001B[39m\u001B[38;5;124m\"\u001B[39m\u001B[38;5;241m.\u001B[39mformat(j \u001B[38;5;241m+\u001B[39m \u001B[38;5;241m1\u001B[39m, \u001B[38;5;28mself\u001B[39m\u001B[38;5;241m.\u001B[39maccuracy(test_data)))\n",
      "Cell \u001B[0;32mIn[1], line 31\u001B[0m, in \u001B[0;36mNoTorch.update_parameters\u001B[0;34m(self, batch, eta, lmbda, n)\u001B[0m\n\u001B[1;32m     29\u001B[0m m \u001B[38;5;241m=\u001B[39m \u001B[38;5;28mlen\u001B[39m(batch)\n\u001B[1;32m     30\u001B[0m \u001B[38;5;28;01mfor\u001B[39;00m x, y \u001B[38;5;129;01min\u001B[39;00m batch:\n\u001B[0;32m---> 31\u001B[0m   delta_nabla_b, delta_nabla_w \u001B[38;5;241m=\u001B[39m \u001B[38;5;28;43mself\u001B[39;49m\u001B[38;5;241;43m.\u001B[39;49m\u001B[43mbackprop\u001B[49m\u001B[43m(\u001B[49m\u001B[43mx\u001B[49m\u001B[43m,\u001B[49m\u001B[43m \u001B[49m\u001B[43my\u001B[49m\u001B[43m)\u001B[49m\n\u001B[1;32m     32\u001B[0m   nabla_b \u001B[38;5;241m=\u001B[39m [nb \u001B[38;5;241m+\u001B[39m dnb \u001B[38;5;28;01mfor\u001B[39;00m nb, dnb \u001B[38;5;129;01min\u001B[39;00m \u001B[38;5;28mzip\u001B[39m(nabla_b, delta_nabla_b)]\n\u001B[1;32m     33\u001B[0m   nabla_w \u001B[38;5;241m=\u001B[39m [nw \u001B[38;5;241m+\u001B[39m dnw \u001B[38;5;28;01mfor\u001B[39;00m nw, dnw \u001B[38;5;129;01min\u001B[39;00m \u001B[38;5;28mzip\u001B[39m(nabla_w, delta_nabla_w)]\n",
      "Cell \u001B[0;32mIn[1], line 52\u001B[0m, in \u001B[0;36mNoTorch.backprop\u001B[0;34m(self, x, y)\u001B[0m\n\u001B[1;32m     50\u001B[0m a, z \u001B[38;5;241m=\u001B[39m [x], [x]\n\u001B[1;32m     51\u001B[0m \u001B[38;5;28;01mfor\u001B[39;00m b, w \u001B[38;5;129;01min\u001B[39;00m \u001B[38;5;28mzip\u001B[39m(\u001B[38;5;28mself\u001B[39m\u001B[38;5;241m.\u001B[39mbiases, \u001B[38;5;28mself\u001B[39m\u001B[38;5;241m.\u001B[39mweights):\n\u001B[0;32m---> 52\u001B[0m   z\u001B[38;5;241m.\u001B[39mappend(\u001B[43mnp\u001B[49m\u001B[38;5;241;43m.\u001B[39;49m\u001B[43mmatmul\u001B[49m\u001B[43m(\u001B[49m\u001B[43mw\u001B[49m\u001B[43m,\u001B[49m\u001B[43m \u001B[49m\u001B[43ma\u001B[49m\u001B[43m[\u001B[49m\u001B[38;5;241;43m-\u001B[39;49m\u001B[38;5;241;43m1\u001B[39;49m\u001B[43m]\u001B[49m\u001B[43m)\u001B[49m \u001B[38;5;241m+\u001B[39m b)\n\u001B[1;32m     53\u001B[0m   a\u001B[38;5;241m.\u001B[39mappend(sigmoid(z[\u001B[38;5;241m-\u001B[39m\u001B[38;5;241m1\u001B[39m]))\n\u001B[1;32m     54\u001B[0m delta \u001B[38;5;241m=\u001B[39m a[\u001B[38;5;241m-\u001B[39m\u001B[38;5;241m1\u001B[39m] \u001B[38;5;241m-\u001B[39m y\n",
      "\u001B[0;31mKeyboardInterrupt\u001B[0m: "
     ]
    }
   ],
   "source": [
    "import mnist_loader\n",
    "TRAIN, VALIDATION, TEST = mnist_loader.load_data_wrapper()\n",
    "EPOCHS = 30\n",
    "ETA = 0.5\n",
    "LMBDA = 5\n",
    "BATCH_SZ = 10\n",
    "net = NoTorch([784, 30, 10])\n",
    "net.SGD(TRAIN, EPOCHS, BATCH_SZ, ETA, LMBDA, TEST)"
   ],
   "metadata": {
    "collapsed": false,
    "ExecuteTime": {
     "end_time": "2023-07-28T22:33:54.437391Z",
     "start_time": "2023-07-28T22:33:35.086241Z"
    }
   }
  },
  {
   "cell_type": "code",
   "execution_count": 5,
   "outputs": [],
   "source": [],
   "metadata": {
    "collapsed": false,
    "ExecuteTime": {
     "end_time": "2023-07-22T19:02:05.601794Z",
     "start_time": "2023-07-22T19:02:05.578265Z"
    }
   }
  },
  {
   "cell_type": "code",
   "execution_count": null,
   "outputs": [],
   "source": [],
   "metadata": {
    "collapsed": false
   }
  }
 ],
 "metadata": {
  "kernelspec": {
   "display_name": "Python 3",
   "language": "python",
   "name": "python3"
  },
  "language_info": {
   "codemirror_mode": {
    "name": "ipython",
    "version": 2
   },
   "file_extension": ".py",
   "mimetype": "text/x-python",
   "name": "python",
   "nbconvert_exporter": "python",
   "pygments_lexer": "ipython2",
   "version": "2.7.6"
  }
 },
 "nbformat": 4,
 "nbformat_minor": 0
}
